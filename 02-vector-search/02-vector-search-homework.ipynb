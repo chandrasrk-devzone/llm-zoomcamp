{
 "cells": [
  {
   "cell_type": "markdown",
   "id": "0bbd3a0d-30d3-42e4-8501-9100913a7041",
   "metadata": {},
   "source": [
    "# llm-zoomcamp/ Homework 2 / Vector Search"
   ]
  },
  {
   "cell_type": "markdown",
   "id": "195e3e34-8cec-40e6-ae0c-c9d2ec4cbcc8",
   "metadata": {},
   "source": [
    "### Q1. Embedding the query"
   ]
  },
  {
   "cell_type": "code",
   "execution_count": 1,
   "id": "4c97c6ad-6125-4c02-9774-32a342b13fea",
   "metadata": {},
   "outputs": [],
   "source": [
    "import numpy as np\n",
    "from fastembed import TextEmbedding"
   ]
  },
  {
   "cell_type": "code",
   "execution_count": 2,
   "id": "cab60b93-8503-4393-b3b4-55250f715c53",
   "metadata": {},
   "outputs": [],
   "source": [
    "query = \"I just discovered the course. Can I join now?\""
   ]
  },
  {
   "cell_type": "code",
   "execution_count": 3,
   "id": "56998bfe-7230-46cb-915c-73f1d39d8a6c",
   "metadata": {},
   "outputs": [],
   "source": [
    "# Use model : \"jinaai/jina-embeddings-v2-small-en\"\n",
    "model = TextEmbedding(model_name=\"jinaai/jina-embeddings-v2-small-en\")"
   ]
  },
  {
   "cell_type": "code",
   "execution_count": 4,
   "id": "165c8718-5500-46fc-a9dc-624cdd7d9b87",
   "metadata": {},
   "outputs": [
    {
     "name": "stdout",
     "output_type": "stream",
     "text": [
      "Vector size: 512\n",
      "Minimum value in vector: -0.117264\n"
     ]
    }
   ],
   "source": [
    "# Generate embedding for the query\n",
    "embeddings = list(model.embed([query]))\n",
    "query_vector = embeddings[0]\n",
    "\n",
    "# Compute statistics\n",
    "vector_size = len(query_vector)\n",
    "min_value = np.min(query_vector)\n",
    "\n",
    "print(f\"Vector size: {vector_size}\")\n",
    "print(f\"Minimum value in vector: {min_value:.6f}\")"
   ]
  },
  {
   "cell_type": "markdown",
   "id": "4c721b1d-4a6f-4b21-b95f-86cddbd008e4",
   "metadata": {},
   "source": [
    "#### Cosine similarity"
   ]
  },
  {
   "cell_type": "code",
   "execution_count": 5,
   "id": "7e71227e-8d88-427b-b973-2825195c40a8",
   "metadata": {},
   "outputs": [
    {
     "data": {
      "text/plain": [
       "np.float64(1.0)"
      ]
     },
     "execution_count": 5,
     "metadata": {},
     "output_type": "execute_result"
    }
   ],
   "source": [
    "import numpy as np\n",
    "np.linalg.norm(query_vector)"
   ]
  },
  {
   "cell_type": "code",
   "execution_count": 6,
   "id": "a6392260-9dcf-49e5-8ce9-95ede28ad512",
   "metadata": {},
   "outputs": [
    {
     "data": {
      "text/plain": [
       "np.float64(1.0000000000000002)"
      ]
     },
     "execution_count": 6,
     "metadata": {},
     "output_type": "execute_result"
    }
   ],
   "source": [
    "query_vector.dot(query_vector)"
   ]
  },
  {
   "cell_type": "markdown",
   "id": "f7f28101-2606-4561-bd21-0f9bbe38493e",
   "metadata": {},
   "source": [
    "### Q2. Cosine similarity with another vector"
   ]
  },
  {
   "cell_type": "code",
   "execution_count": 7,
   "id": "398214a0-b3d9-4710-ae4a-def7983975cd",
   "metadata": {},
   "outputs": [],
   "source": [
    "import numpy as np\n",
    "from fastembed import TextEmbedding\n",
    "from sklearn.metrics.pairwise import cosine_similarity"
   ]
  },
  {
   "cell_type": "code",
   "execution_count": 8,
   "id": "a6b0670e-3923-4a05-834d-b0655585483a",
   "metadata": {},
   "outputs": [],
   "source": [
    "def find_cosine_similarity(model_name, querry, doc):\n",
    "  \n",
    "    # Load embedding model\n",
    "    model = TextEmbedding(model_name=model_name)\n",
    "\n",
    "    # Generate embeddings\n",
    "    query_vector = list(model.embed([query]))[0]\n",
    "    doc_vector = list(model.embed([doc]))[0]\n",
    "\n",
    "    # Convert to 2D for sklearn\n",
    "    query_vector_2d = np.array(query_vector).reshape(1, -1)\n",
    "    doc_vector_2d = np.array(doc_vector).reshape(1, -1)\n",
    "\n",
    "    # Compute cosine similarity\n",
    "    similarity = cosine_similarity(query_vector_2d, doc_vector_2d)[0][0]\n",
    "\n",
    "    return similarity"
   ]
  },
  {
   "cell_type": "code",
   "execution_count": 9,
   "id": "31487ca8-0cb0-46d6-9635-3be3e67ecee0",
   "metadata": {},
   "outputs": [],
   "source": [
    "#model\n",
    "model_name=\"jinaai/jina-embeddings-v2-small-en\"\n",
    "# Sentences to compare\n",
    "query = \"I just discovered the course. Can I join now?\"\n",
    "doc = \"Can I still join the course after the start date?\""
   ]
  },
  {
   "cell_type": "code",
   "execution_count": 10,
   "id": "1ff3981f-e00b-4b03-9fea-1dcba3633ec6",
   "metadata": {},
   "outputs": [
    {
     "name": "stdout",
     "output_type": "stream",
     "text": [
      "Cosine similarity: 0.9009\n"
     ]
    }
   ],
   "source": [
    "similarity= find_cosine_similarity(model_name, query,doc)\n",
    "print(f\"Cosine similarity: {similarity:.4f}\")"
   ]
  },
  {
   "cell_type": "markdown",
   "id": "fd9f6767-72b8-49b9-a96f-995196d98c3b",
   "metadata": {},
   "source": [
    "### Q3. Ranking by cosine\n"
   ]
  },
  {
   "cell_type": "code",
   "execution_count": 11,
   "id": "01c43b2b-3de9-469a-b7c0-d7a4778b1d4d",
   "metadata": {},
   "outputs": [],
   "source": [
    "import numpy as np\n",
    "from fastembed import TextEmbedding"
   ]
  },
  {
   "cell_type": "code",
   "execution_count": 12,
   "id": "a80eb3bd-a797-4c03-827e-a6674c0b4632",
   "metadata": {},
   "outputs": [],
   "source": [
    "def find_ranking_by_cosine(model_name, query,documents):\n",
    "    \n",
    "    # Initialize the embedding model\n",
    "    model = TextEmbedding(model_name=model_name)\n",
    "\n",
    "    # Compute the query embedding\n",
    "    query_vector = np.array(list(model.embed([query]))[0])\n",
    "\n",
    "    # Compute document embeddings\n",
    "    doc_texts = [doc[\"text\"] for doc in documents]\n",
    "    doc_embeddings = list(model.embed(doc_texts))\n",
    "\n",
    "    # Convert to numpy matrix\n",
    "    V = np.array(doc_embeddings)  # shape: (5, 512)\n",
    "\n",
    "    # Normalize vectors (fastembed returns normalized vectors, but for safety)\n",
    "    query_vector = query_vector / np.linalg.norm(query_vector)\n",
    "    V = V / np.linalg.norm(V, axis=1, keepdims=True)\n",
    "\n",
    "    # Compute cosine similarity using dot product\n",
    "    cosine_similarities = np.dot(V, query_vector)\n",
    "\n",
    "    # Find the index with the highest similarity\n",
    "    best_index = np.argmax(cosine_similarities)\n",
    "\n",
    "    return best_index;\n",
    "    "
   ]
  },
  {
   "cell_type": "code",
   "execution_count": 13,
   "id": "e5f87cd5-316c-4994-a15b-859052e1d323",
   "metadata": {},
   "outputs": [],
   "source": [
    "# Query\n",
    "query = \"I just discovered the course. Can I join now?\"\n",
    "\n",
    "# Documents\n",
    "documents = [\n",
    "    {'text': \"Yes, even if you don't register, you're still eligible to submit the homeworks.\\nBe aware, however, that there will be deadlines for turning in the final projects. So don't leave everything for the last minute.\"},\n",
    "    {'text': 'Yes, we will keep all the materials after the course finishes, so you can follow the course at your own pace after it finishes.\\nYou can also continue looking at the homeworks and continue preparing for the next cohort. I guess you can also start working on your final capstone project.'},\n",
    "    {'text': \"The purpose of this document is to capture frequently asked technical questions\\nThe exact day and hour of the course will be 15th Jan 2024 at 17h00. The course will start with the first  “Office Hours'' live.1\\nSubscribe to course public Google Calendar (it works from Desktop only).\\nRegister before the course starts using this link.\\nJoin the course Telegram channel with announcements.\\nDon’t forget to register in DataTalks.Club's Slack and join the channel.\"},\n",
    "    {'text': 'You can start by installing and setting up all the dependencies and requirements:\\nGoogle cloud account\\nGoogle Cloud SDK\\nPython 3 (installed with Anaconda)\\nTerraform\\nGit\\nLook over the prerequisites and syllabus to see if you are comfortable with these subjects.'},\n",
    "    {'text': 'Star the repo! Share it with friends if you find it useful ❣️\\nCreate a PR if you see you can improve the text or the structure of the repository.'}\n",
    "]"
   ]
  },
  {
   "cell_type": "code",
   "execution_count": 14,
   "id": "f7ad94c6-11af-4512-9a69-2196ad634fe9",
   "metadata": {},
   "outputs": [
    {
     "name": "stdout",
     "output_type": "stream",
     "text": [
      "Most similar document index: 1\n"
     ]
    }
   ],
   "source": [
    "\n",
    "best_index = find_ranking_by_cosine(model_name, query,documents)\n",
    "\n",
    "print(f\"Most similar document index: {best_index}\")"
   ]
  },
  {
   "cell_type": "markdown",
   "id": "e629ef9e-53b1-4b2e-a586-28579004ad19",
   "metadata": {},
   "source": [
    "### Q4. Ranking by cosine, version two"
   ]
  },
  {
   "cell_type": "code",
   "execution_count": 15,
   "id": "36bf7255-84b8-49b2-887d-9e27cf99e8b1",
   "metadata": {},
   "outputs": [],
   "source": [
    "import numpy as np\n",
    "from fastembed import TextEmbedding"
   ]
  },
  {
   "cell_type": "code",
   "execution_count": 16,
   "id": "63244458-ec21-4453-9f82-d55affea7fa5",
   "metadata": {},
   "outputs": [],
   "source": [
    "def find_ranking_by_cosine_v2(model_name, query,documents):\n",
    "    \n",
    "    # Initialize the embedding model\n",
    "    model = TextEmbedding(model_name=model_name)\n",
    "\n",
    "    # Compute the query embedding\n",
    "    query_vector = np.array(list(model.embed([query]))[0])\n",
    "\n",
    "    # Create full_text fields and embed them\n",
    "    full_texts = [doc['question'] + ' ' + doc['text'] for doc in documents]\n",
    "    doc_embeddings = list(model.embed(full_texts))\n",
    "\n",
    "    # Convert to numpy matrix\n",
    "    V = np.array(doc_embeddings)\n",
    "\n",
    "    # Normalize vectors (fastembed returns normalized vectors, but for safety)\n",
    "    query_vector = query_vector / np.linalg.norm(query_vector)\n",
    "    V = V / np.linalg.norm(V, axis=1, keepdims=True)\n",
    "\n",
    "    # Compute cosine similarity using dot product\n",
    "    cosine_similarities = np.dot(V, query_vector)\n",
    "\n",
    "    # Find the index with the highest similarity\n",
    "    best_index = np.argmax(cosine_similarities)\n",
    "\n",
    "    return best_index;    "
   ]
  },
  {
   "cell_type": "code",
   "execution_count": 17,
   "id": "7d11e8f7-5808-4228-ad94-6547c3a1e8a0",
   "metadata": {},
   "outputs": [],
   "source": [
    "# Query\n",
    "query = \"I just discovered the course. Can I join now?\"\n",
    "\n",
    "# Documents\n",
    "documents = [\n",
    "    {\n",
    "        'question': 'Course - Can I still join the course after the start date?',\n",
    "        'text': \"Yes, even if you don't register, you're still eligible to submit the homeworks.\\nBe aware, however, that there will be deadlines for turning in the final projects. So don't leave everything for the last minute.\"\n",
    "    },\n",
    "    {\n",
    "        'question': 'Course - Can I follow the course after it finishes?',\n",
    "        'text': 'Yes, we will keep all the materials after the course finishes, so you can follow the course at your own pace after it finishes.\\nYou can also continue looking at the homeworks and continue preparing for the next cohort. I guess you can also start working on your final capstone project.'\n",
    "    },\n",
    "    {\n",
    "        'question': 'Course - When will the course start?',\n",
    "        'text': \"The purpose of this document is to capture frequently asked technical questions\\nThe exact day and hour of the course will be 15th Jan 2024 at 17h00. The course will start with the first  “Office Hours'' live.\\nSubscribe to course public Google Calendar (it works from Desktop only).\\nRegister before the course starts using this link.\\nJoin the course Telegram channel with announcements.\\nDon’t forget to register in DataTalks.Club's Slack and join the channel.\"\n",
    "    },\n",
    "    {\n",
    "        'question': 'Course - What can I do before the course starts?',\n",
    "        'text': 'You can start by installing and setting up all the dependencies and requirements:\\nGoogle cloud account\\nGoogle Cloud SDK\\nPython 3 (installed with Anaconda)\\nTerraform\\nGit\\nLook over the prerequisites and syllabus to see if you are comfortable with these subjects.'\n",
    "    },\n",
    "    {\n",
    "        'question': 'How can we contribute to the course?',\n",
    "        'text': 'Star the repo! Share it with friends if you find it useful ❣️\\nCreate a PR if you see you can improve the text or the structure of the repository.'\n",
    "    }\n",
    "]\n"
   ]
  },
  {
   "cell_type": "code",
   "execution_count": 18,
   "id": "35fc85ad-f33c-4005-b0c0-1459675c9d0f",
   "metadata": {},
   "outputs": [
    {
     "name": "stdout",
     "output_type": "stream",
     "text": [
      "Most similar document index: 0\n"
     ]
    }
   ],
   "source": [
    "\n",
    "best_index = find_ranking_by_cosine_v2(model_name, query,documents)\n",
    "\n",
    "print(f\"Most similar document index: {best_index}\")"
   ]
  },
  {
   "cell_type": "markdown",
   "id": "777da9f2-6d44-4f05-8d7f-d4bb7dbd19c5",
   "metadata": {},
   "source": [
    "#### In Q3, embeddings were based only on the document text, so the top match (index 1) reflected general content similarity.\n",
    "#### In Q4, using question + text provided better context, making index 0 the best match as it aligned more directly with the query’s intent.\n"
   ]
  },
  {
   "cell_type": "markdown",
   "id": "dd89bb1b-fcb4-4460-9cd6-0a8018dbee67",
   "metadata": {},
   "source": [
    "### Q5. Selecting the embedding model"
   ]
  },
  {
   "cell_type": "code",
   "execution_count": 21,
   "id": "891d536a-4d30-4a90-8ef2-07dcccd63b97",
   "metadata": {},
   "outputs": [],
   "source": [
    "from fastembed import TextEmbedding"
   ]
  },
  {
   "cell_type": "code",
   "execution_count": 22,
   "id": "61672036-86c4-40ff-88db-2d345382a8a1",
   "metadata": {},
   "outputs": [],
   "source": [
    "def get_fastembed_model_dimentionality(model_name):\n",
    "    model = TextEmbedding(model_name=model_name)\n",
    "    embedding = list(model.embed([\"your text here\"]))[0]\n",
    "    return len(embedding)"
   ]
  },
  {
   "cell_type": "code",
   "execution_count": 23,
   "id": "c9336feb-6142-4b51-bf61-ff5bd8815252",
   "metadata": {},
   "outputs": [
    {
     "name": "stdout",
     "output_type": "stream",
     "text": [
      "dimensionality for model: 384\n"
     ]
    }
   ],
   "source": [
    "model_name = \"BAAI/bge-small-en\"\n",
    "dimenlen= get_fastembed_model_dimentionality(model_name)\n",
    "print(f\"dimensionality for model: {dimenlen}\")      "
   ]
  },
  {
   "cell_type": "markdown",
   "id": "fe35effa-e55e-4c1d-a97e-28adc8446bed",
   "metadata": {},
   "source": [
    "### Q6. Indexing with qdrant (2 points)\n"
   ]
  },
  {
   "cell_type": "code",
   "execution_count": 24,
   "id": "c852f34e-9ba3-42a9-8898-60fa7bbca64a",
   "metadata": {},
   "outputs": [],
   "source": [
    "import requests\n",
    "from qdrant_client import QdrantClient\n",
    "from qdrant_client.models import VectorParams, Distance, PointStruct\n",
    "import numpy as np\n",
    "from fastembed import TextEmbedding"
   ]
  },
  {
   "cell_type": "code",
   "execution_count": 25,
   "id": "18502d49-5cb9-4c51-8a58-3763dcc6db7a",
   "metadata": {},
   "outputs": [],
   "source": [
    "docs_url = 'https://github.com/alexeygrigorev/llm-rag-workshop/raw/main/notebooks/documents.json'\n",
    "docs_response = requests.get(docs_url)\n",
    "documents_raw = docs_response.json()\n",
    "\n",
    "documents = []\n",
    "\n",
    "for course in documents_raw:\n",
    "    course_name = course['course']\n",
    "    if course_name != 'machine-learning-zoomcamp':\n",
    "        continue\n",
    "\n",
    "    for doc in course['documents']:\n",
    "        doc['course'] = course_name\n",
    "        documents.append(doc)"
   ]
  },
  {
   "cell_type": "code",
   "execution_count": 26,
   "id": "fee0980d-73a9-4121-a9c4-33221675f7a3",
   "metadata": {},
   "outputs": [],
   "source": [
    "# prepare embeddings\n",
    "model = TextEmbedding(model_name=\"BAAI/bge-small-en\")\n",
    "full_texts = [doc['question'] + ' ' + doc['text'] for doc in documents]\n",
    "embeddings = list(model.embed(full_texts)) "
   ]
  },
  {
   "cell_type": "code",
   "execution_count": 27,
   "id": "f7e47a1d-d812-48f6-ad51-169f2061c737",
   "metadata": {},
   "outputs": [
    {
     "data": {
      "text/plain": [
       "UpdateResult(operation_id=1, status=<UpdateStatus.COMPLETED: 'completed'>)"
      ]
     },
     "execution_count": 27,
     "metadata": {},
     "output_type": "execute_result"
    }
   ],
   "source": [
    "# create quadrant collection and insert points\n",
    "client = QdrantClient(host=\"localhost\", port=6333)\n",
    "\n",
    "collection_name = \"mlzc_bge_small\"\n",
    "if not client.collection_exists(collection_name=collection_name):\n",
    "    client.create_collection(\n",
    "        collection_name=collection_name,\n",
    "        vectors_config=VectorParams(size=384, distance=Distance.COSINE)\n",
    "    )\n",
    "\n",
    "points = [\n",
    "    PointStruct(id=i, vector=embeddings[i].tolist(), payload=documents[i])\n",
    "    for i in range(len(documents))\n",
    "]\n",
    "client.upsert(collection_name=collection_name, points=points)\n"
   ]
  },
  {
   "cell_type": "code",
   "execution_count": 28,
   "id": "fadb0427-47d1-49b9-a3c7-d907078087c7",
   "metadata": {},
   "outputs": [
    {
     "name": "stdout",
     "output_type": "stream",
     "text": [
      "Top result score: 0.8703\n"
     ]
    },
    {
     "name": "stderr",
     "output_type": "stream",
     "text": [
      "/tmp/ipykernel_102042/3383074496.py:5: DeprecationWarning: `search` method is deprecated and will be removed in the future. Use `query_points` instead.\n",
      "  results = client.search(\n"
     ]
    }
   ],
   "source": [
    "# qyeey wuth prompt\n",
    "query = \"I just discovered the course. Can I join now?\"\n",
    "q_vec = list(model.embed([query]))[0].tolist()\n",
    "\n",
    "results = client.search(\n",
    "    collection_name=collection_name,\n",
    "    query_vector=q_vec,\n",
    "    limit=1\n",
    ")\n",
    "\n",
    "top_score = results[0].score\n",
    "print(f\"Top result score: {top_score:.4f}\")\n"
   ]
  },
  {
   "cell_type": "code",
   "execution_count": null,
   "id": "74486171-ece6-4772-814c-d00bfe51dad3",
   "metadata": {},
   "outputs": [],
   "source": []
  },
  {
   "cell_type": "code",
   "execution_count": null,
   "id": "f38c9332-e923-48e8-beeb-3068886c1eb6",
   "metadata": {},
   "outputs": [],
   "source": []
  },
  {
   "cell_type": "code",
   "execution_count": null,
   "id": "a427133a-6f38-40a8-810e-fb2e486dd416",
   "metadata": {},
   "outputs": [],
   "source": []
  }
 ],
 "metadata": {
  "kernelspec": {
   "display_name": "Python 3 (ipykernel)",
   "language": "python",
   "name": "python3"
  },
  "language_info": {
   "codemirror_mode": {
    "name": "ipython",
    "version": 3
   },
   "file_extension": ".py",
   "mimetype": "text/x-python",
   "name": "python",
   "nbconvert_exporter": "python",
   "pygments_lexer": "ipython3",
   "version": "3.12.1"
  }
 },
 "nbformat": 4,
 "nbformat_minor": 5
}
